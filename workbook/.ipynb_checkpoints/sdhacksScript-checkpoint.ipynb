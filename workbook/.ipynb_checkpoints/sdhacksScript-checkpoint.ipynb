{
 "cells": [
  {
   "cell_type": "code",
   "execution_count": 1,
   "metadata": {
    "collapsed": false
   },
   "outputs": [],
   "source": [
    "import random\n",
    "firstNames = \"John, Oliver, Melissa, Monica, Rachel, Sri, Binny, Stuart, Joe\"\n",
    "lastNames = \"Shah, Singh, Chen, Chan, Wang, Smith, Greene, Watson, Lee\"\n",
    "countries = \"India, China, USA, UK, Australia, Germany, France, Mexico, Italy, Greece, Spain, Japan\"\n",
    "universities = \"Michigan, California - San Diego, California - Santa Cruz,California - Santa Barbara, Pennsylvania, Washington,\\\n",
    "California - Los Angeles, Texas - Austin, Wisconsin - Madison\"\n",
    "departments = \"CSE, ECE, Bioinformatics, CE, Maths, Data Science\"\n",
    "degrees = \"BR, MS, PhD\"\n",
    "#email, age\n",
    "\n",
    "def getRandomValue(array):\n",
    "    return array[random.randrange(0, len(array))]\n",
    "\n",
    "outputCSVFile = open(\"input.csv\", 'w')\n",
    "outputCSVFile.write('name' + \",\" + 'email' + \",\" + 'age' + \",\" + 'country' + \",\" + 'university' + \",\" + 'department' + \",\" + 'degree')\n",
    "outputCSVFile.write(\"\\n\")\n",
    "for i in xrange(500):\n",
    "    name = getRandomValue(firstNames.split(\",\")) + \" \" + getRandomValue(lastNames.split(\",\"))\n",
    "    email = name.replace(\" \", \"\") + str(random.randrange(1, 10000)) + \"@gmail.com\"\n",
    "    age = str(random.randrange(20,29))\n",
    "    country = getRandomValue(countries.split(\",\"))\n",
    "    university = \"University of \" + getRandomValue(universities.split(\",\"))\n",
    "    department = getRandomValue(departments.split(\",\"))\n",
    "    degree = getRandomValue(degrees.split(\",\"))\n",
    "    outputCSVFile.write(name + \",\" + email + \",\" + age + \",\" + country+ \",\" + university + \",\" + department + \",\" + degree)\n",
    "    outputCSVFile.write(\"\\n\")\n",
    "outputCSVFile.close()"
   ]
  },
  {
   "cell_type": "code",
   "execution_count": 2,
   "metadata": {
    "collapsed": false
   },
   "outputs": [
    {
     "name": "stdout",
     "output_type": "stream",
     "text": [
      "['name', 'email', 'age', 'country', 'university', 'department', 'degree']\n"
     ]
    }
   ],
   "source": [
    "import csv\n",
    "from collections import Counter\n",
    "output = dict()\n",
    "with open('input.csv', 'r') as csvfile:\n",
    "    csvFile = csv.DictReader(csvfile)\n",
    "    headers = csvFile.fieldnames\n",
    "    print headers\n",
    "    col_num = len(headers)\n",
    "    data={}\n",
    "    for col in headers[2:len(headers)]:\n",
    "        data[col]=[]\n",
    "        \n",
    "    for row in csvFile:\n",
    "        for column in headers[2:col_num]:\n",
    "            data[column].append(row[column])\n",
    "\n",
    "    for key in data.keys():\n",
    "        output[key] = dict(Counter(data[key]))"
   ]
  },
  {
   "cell_type": "code",
   "execution_count": 4,
   "metadata": {
    "collapsed": false
   },
   "outputs": [],
   "source": [
    "import itertools\n",
    "total_size = 500\n",
    "\n",
    "def pick_one_person(combination, fields, csvFile):\n",
    "    for row in csvFile:\n",
    "        matched = False\n",
    "        for idx in xrange(len(fields)):\n",
    "            if row[fields[idx]] != combination[idx]:\n",
    "                continue\n",
    "        email = row['email']\n",
    "        del row\n",
    "        return email\n",
    "    return None\n",
    "    \n",
    "def form_groups(fields, count):\n",
    "    csvFile = csv.DictReader(open('input.csv', 'r'))\n",
    "    headers = csvFile.fieldnames\n",
    "    combinations = []\n",
    "    for field in fields:\n",
    "        combinations.append(output[field].keys())\n",
    "    combinations = list(itertools.product(*combinations))\n",
    "    group_size = total_size / count\n",
    "    output_groups = []\n",
    "    for i in xrange(count):\n",
    "        output_groups.append([])\n",
    "        for j in xrange(group_size):\n",
    "            selected_person = None\n",
    "            while selected_person == None:\n",
    "                random_group = random.randrange(0, len(combinations))\n",
    "                selected_person = pick_one_person(combinations[random_group], fields, csvFile)    \n",
    "                output_groups[i].append(selected_person)        \n",
    "    \n",
    "\n",
    "form_groups(['country','university'], 10)"
   ]
  },
  {
   "cell_type": "code",
   "execution_count": null,
   "metadata": {
    "collapsed": true
   },
   "outputs": [],
   "source": []
  }
 ],
 "metadata": {
  "kernelspec": {
   "display_name": "Python 2",
   "language": "python",
   "name": "python2"
  },
  "language_info": {
   "codemirror_mode": {
    "name": "ipython",
    "version": 2
   },
   "file_extension": ".py",
   "mimetype": "text/x-python",
   "name": "python",
   "nbconvert_exporter": "python",
   "pygments_lexer": "ipython2",
   "version": "2.7.12"
  }
 },
 "nbformat": 4,
 "nbformat_minor": 0
}
